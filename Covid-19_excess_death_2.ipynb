{
 "cells": [
  {
   "cell_type": "markdown",
   "id": "473f4d06",
   "metadata": {},
   "source": [
    "# Modules imported for the analysis "
   ]
  },
  {
   "cell_type": "code",
   "execution_count": 1,
   "id": "7bb0749b",
   "metadata": {},
   "outputs": [],
   "source": [
    "#Modules are imported for the analysis\n",
    "\n",
    "#Pandas library is used for working with the datasets, it has function of manipulating, cleaning, analyzing exploring the data\n",
    "#Numpy library is used for the mathematical operations \n",
    "#Matplotlib library is used for data visualisation and graphical plotting in the data.\n",
    "#Seaborn library is used for making stastical graphics.\n",
    "#Scipy is used for technical and scientific computation. Stats is a submodule of scipy library which provides stastical functions.\n",
    "#Datetime library provides working with the date and time. \n",
    "\n",
    "import pandas as pd\n",
    "import numpy as np\n",
    "import matplotlib.pyplot as plt\n",
    "import seaborn as sns \n",
    "from scipy import stats\n",
    "from datetime import datetime"
   ]
  },
  {
   "cell_type": "markdown",
   "id": "72c4a68f",
   "metadata": {},
   "source": [
    "# First dataset for the baseline 2015-2019 imported "
   ]
  },
  {
   "cell_type": "code",
   "execution_count": 2,
   "id": "edd4ca39",
   "metadata": {},
   "outputs": [],
   "source": [
    "#Dataset imported for the baseline analysis 2015-2019 and assigned it into a variable called 'df1'\n",
    "\n",
    "df1 = pd.read_csv(\"C:/Users/Admin1/OneDrive/Desktop/Project MSc Data Science/weekly-deaths-by-date-health-board-location-15-19.csv\")"
   ]
  },
  {
   "cell_type": "code",
   "execution_count": 3,
   "id": "ca081bd5",
   "metadata": {},
   "outputs": [
    {
     "data": {
      "text/html": [
       "<div>\n",
       "<style scoped>\n",
       "    .dataframe tbody tr th:only-of-type {\n",
       "        vertical-align: middle;\n",
       "    }\n",
       "\n",
       "    .dataframe tbody tr th {\n",
       "        vertical-align: top;\n",
       "    }\n",
       "\n",
       "    .dataframe thead th {\n",
       "        text-align: right;\n",
       "    }\n",
       "</style>\n",
       "<table border=\"1\" class=\"dataframe\">\n",
       "  <thead>\n",
       "    <tr style=\"text-align: right;\">\n",
       "      <th></th>\n",
       "      <th>Data for weekly deaths (occurrences), by Health Board and location, 2015-2019</th>\n",
       "      <th>Unnamed: 1</th>\n",
       "      <th>Unnamed: 2</th>\n",
       "      <th>Unnamed: 3</th>\n",
       "      <th>Unnamed: 4</th>\n",
       "      <th>Unnamed: 5</th>\n",
       "      <th>Unnamed: 6</th>\n",
       "      <th>Unnamed: 7</th>\n",
       "      <th>back to contents</th>\n",
       "      <th>Unnamed: 9</th>\n",
       "    </tr>\n",
       "  </thead>\n",
       "  <tbody>\n",
       "    <tr>\n",
       "      <th>0</th>\n",
       "      <td>NaN</td>\n",
       "      <td>NaN</td>\n",
       "      <td>NaN</td>\n",
       "      <td>NaN</td>\n",
       "      <td>NaN</td>\n",
       "      <td>NaN</td>\n",
       "      <td>NaN</td>\n",
       "      <td>NaN</td>\n",
       "      <td>NaN</td>\n",
       "      <td>NaN</td>\n",
       "    </tr>\n",
       "    <tr>\n",
       "      <th>1</th>\n",
       "      <td>week of occurrence</td>\n",
       "      <td>health board</td>\n",
       "      <td>location</td>\n",
       "      <td>year</td>\n",
       "      <td>number of deaths</td>\n",
       "      <td>NaN</td>\n",
       "      <td>NaN</td>\n",
       "      <td>NaN</td>\n",
       "      <td>NaN</td>\n",
       "      <td>NaN</td>\n",
       "    </tr>\n",
       "    <tr>\n",
       "      <th>2</th>\n",
       "      <td>NaN</td>\n",
       "      <td>NaN</td>\n",
       "      <td>NaN</td>\n",
       "      <td>NaN</td>\n",
       "      <td>NaN</td>\n",
       "      <td>NaN</td>\n",
       "      <td>NaN</td>\n",
       "      <td>NaN</td>\n",
       "      <td>NaN</td>\n",
       "      <td>NaN</td>\n",
       "    </tr>\n",
       "    <tr>\n",
       "      <th>3</th>\n",
       "      <td>01</td>\n",
       "      <td>Ayrshire and Arran</td>\n",
       "      <td>Care Home</td>\n",
       "      <td>2015</td>\n",
       "      <td>23</td>\n",
       "      <td>NaN</td>\n",
       "      <td>NaN</td>\n",
       "      <td>NaN</td>\n",
       "      <td>NaN</td>\n",
       "      <td>NaN</td>\n",
       "    </tr>\n",
       "    <tr>\n",
       "      <th>4</th>\n",
       "      <td>01</td>\n",
       "      <td>Ayrshire and Arran</td>\n",
       "      <td>Home / Non-institution</td>\n",
       "      <td>2015</td>\n",
       "      <td>28</td>\n",
       "      <td>NaN</td>\n",
       "      <td>NaN</td>\n",
       "      <td>NaN</td>\n",
       "      <td>NaN</td>\n",
       "      <td>NaN</td>\n",
       "    </tr>\n",
       "    <tr>\n",
       "      <th>...</th>\n",
       "      <td>...</td>\n",
       "      <td>...</td>\n",
       "      <td>...</td>\n",
       "      <td>...</td>\n",
       "      <td>...</td>\n",
       "      <td>...</td>\n",
       "      <td>...</td>\n",
       "      <td>...</td>\n",
       "      <td>...</td>\n",
       "      <td>...</td>\n",
       "    </tr>\n",
       "    <tr>\n",
       "      <th>11155</th>\n",
       "      <td>52</td>\n",
       "      <td>Western Isles</td>\n",
       "      <td>Care Home</td>\n",
       "      <td>2019</td>\n",
       "      <td>1</td>\n",
       "      <td>NaN</td>\n",
       "      <td>NaN</td>\n",
       "      <td>NaN</td>\n",
       "      <td>NaN</td>\n",
       "      <td>NaN</td>\n",
       "    </tr>\n",
       "    <tr>\n",
       "      <th>11156</th>\n",
       "      <td>52</td>\n",
       "      <td>Western Isles</td>\n",
       "      <td>Home / Non-institution</td>\n",
       "      <td>2019</td>\n",
       "      <td>2</td>\n",
       "      <td>NaN</td>\n",
       "      <td>NaN</td>\n",
       "      <td>NaN</td>\n",
       "      <td>NaN</td>\n",
       "      <td>NaN</td>\n",
       "    </tr>\n",
       "    <tr>\n",
       "      <th>11157</th>\n",
       "      <td>52</td>\n",
       "      <td>Western Isles</td>\n",
       "      <td>Hospital</td>\n",
       "      <td>2019</td>\n",
       "      <td>4</td>\n",
       "      <td>NaN</td>\n",
       "      <td>NaN</td>\n",
       "      <td>NaN</td>\n",
       "      <td>NaN</td>\n",
       "      <td>NaN</td>\n",
       "    </tr>\n",
       "    <tr>\n",
       "      <th>11158</th>\n",
       "      <td>NaN</td>\n",
       "      <td>NaN</td>\n",
       "      <td>NaN</td>\n",
       "      <td>NaN</td>\n",
       "      <td>NaN</td>\n",
       "      <td>NaN</td>\n",
       "      <td>NaN</td>\n",
       "      <td>NaN</td>\n",
       "      <td>NaN</td>\n",
       "      <td>NaN</td>\n",
       "    </tr>\n",
       "    <tr>\n",
       "      <th>11159</th>\n",
       "      <td>© Crown Copyright 2020</td>\n",
       "      <td>NaN</td>\n",
       "      <td>NaN</td>\n",
       "      <td>NaN</td>\n",
       "      <td>NaN</td>\n",
       "      <td>NaN</td>\n",
       "      <td>NaN</td>\n",
       "      <td>NaN</td>\n",
       "      <td>NaN</td>\n",
       "      <td>NaN</td>\n",
       "    </tr>\n",
       "  </tbody>\n",
       "</table>\n",
       "<p>11160 rows × 10 columns</p>\n",
       "</div>"
      ],
      "text/plain": [
       "      Data for weekly deaths (occurrences), by Health Board and location, 2015-2019  \\\n",
       "0                                                    NaN                              \n",
       "1                                     week of occurrence                              \n",
       "2                                                    NaN                              \n",
       "3                                                     01                              \n",
       "4                                                     01                              \n",
       "...                                                  ...                              \n",
       "11155                                                 52                              \n",
       "11156                                                 52                              \n",
       "11157                                                 52                              \n",
       "11158                                                NaN                              \n",
       "11159                             © Crown Copyright 2020                              \n",
       "\n",
       "               Unnamed: 1              Unnamed: 2 Unnamed: 3  \\\n",
       "0                     NaN                     NaN        NaN   \n",
       "1            health board                location       year   \n",
       "2                     NaN                     NaN        NaN   \n",
       "3      Ayrshire and Arran               Care Home       2015   \n",
       "4      Ayrshire and Arran  Home / Non-institution       2015   \n",
       "...                   ...                     ...        ...   \n",
       "11155       Western Isles               Care Home       2019   \n",
       "11156       Western Isles  Home / Non-institution       2019   \n",
       "11157       Western Isles                Hospital       2019   \n",
       "11158                 NaN                     NaN        NaN   \n",
       "11159                 NaN                     NaN        NaN   \n",
       "\n",
       "             Unnamed: 4  Unnamed: 5  Unnamed: 6  Unnamed: 7  back to contents  \\\n",
       "0                   NaN         NaN         NaN         NaN               NaN   \n",
       "1      number of deaths         NaN         NaN         NaN               NaN   \n",
       "2                   NaN         NaN         NaN         NaN               NaN   \n",
       "3                    23         NaN         NaN         NaN               NaN   \n",
       "4                    28         NaN         NaN         NaN               NaN   \n",
       "...                 ...         ...         ...         ...               ...   \n",
       "11155                 1         NaN         NaN         NaN               NaN   \n",
       "11156                 2         NaN         NaN         NaN               NaN   \n",
       "11157                 4         NaN         NaN         NaN               NaN   \n",
       "11158               NaN         NaN         NaN         NaN               NaN   \n",
       "11159               NaN         NaN         NaN         NaN               NaN   \n",
       "\n",
       "       Unnamed: 9  \n",
       "0             NaN  \n",
       "1             NaN  \n",
       "2             NaN  \n",
       "3             NaN  \n",
       "4             NaN  \n",
       "...           ...  \n",
       "11155         NaN  \n",
       "11156         NaN  \n",
       "11157         NaN  \n",
       "11158         NaN  \n",
       "11159         NaN  \n",
       "\n",
       "[11160 rows x 10 columns]"
      ]
     },
     "execution_count": 3,
     "metadata": {},
     "output_type": "execute_result"
    }
   ],
   "source": [
    "df1"
   ]
  },
  {
   "cell_type": "code",
   "execution_count": 4,
   "id": "32ab9103",
   "metadata": {},
   "outputs": [],
   "source": [
    "#Since the columns heading are named as \"Unnamed\" it is renamed by the (.rename function) to the relevant names for the columns.\n",
    "\n",
    "df1 = df1.rename(columns = {\n",
    "    df1.columns[0]: 'week of occurrence',\n",
    "    'Unnamed: 1': 'health board',\n",
    "    'Unnamed: 2': 'location',\n",
    "    'Unnamed: 3': 'year',\n",
    "    'Unnamed: 4': 'number of deaths',\n",
    "\n",
    "})"
   ]
  },
  {
   "cell_type": "code",
   "execution_count": 5,
   "id": "ccc069c8",
   "metadata": {},
   "outputs": [],
   "source": [
    "#Dropped the columns which does not contains any values.\n",
    "\n",
    "df1 = df1.drop(columns=[\"Unnamed: 5\", \"Unnamed: 6\", \"Unnamed: 7\", \"back to contents\", \"Unnamed: 9\"])"
   ]
  },
  {
   "cell_type": "code",
   "execution_count": 6,
   "id": "30222340",
   "metadata": {},
   "outputs": [],
   "source": [
    "#Dropped the 'nan' values from the dataset\n",
    "\n",
    "df1.dropna(inplace = True)"
   ]
  },
  {
   "cell_type": "code",
   "execution_count": 7,
   "id": "2a9cff71",
   "metadata": {},
   "outputs": [],
   "source": [
    "#Dropped the first row since it was duplicating the column names\n",
    "\n",
    "df1 = df1.drop(index=1)"
   ]
  },
  {
   "cell_type": "code",
   "execution_count": 8,
   "id": "72b6c1f7",
   "metadata": {},
   "outputs": [],
   "source": [
    "#Restarted the index with 0\n",
    "\n",
    "start = 0\n",
    "df1.index = range(start, start +len(df1))"
   ]
  },
  {
   "cell_type": "code",
   "execution_count": 9,
   "id": "ace6c6c0",
   "metadata": {},
   "outputs": [
    {
     "name": "stdout",
     "output_type": "stream",
     "text": [
      "week of occurrence    object\n",
      "health board          object\n",
      "location              object\n",
      "year                  object\n",
      "number of deaths      object\n",
      "dtype: object\n"
     ]
    }
   ],
   "source": [
    "#By using (.dtypes) checked the datatype of the df1\n",
    "\n",
    "print(df1.dtypes)"
   ]
  },
  {
   "cell_type": "code",
   "execution_count": 10,
   "id": "b33dcf35",
   "metadata": {},
   "outputs": [],
   "source": [
    "#Since the datatype is object for the 'week of occurrence', 'year' and 'number of deaths' it is changed from object to integer\n",
    "#Year changed to integer datatype\n",
    "\n",
    "df1['year'] = df1['year'].astype(int)"
   ]
  },
  {
   "cell_type": "code",
   "execution_count": 11,
   "id": "ec0af5aa",
   "metadata": {},
   "outputs": [],
   "source": [
    "#Week of occurrence changed to integer datatype\n",
    "\n",
    "df1['week of occurrence'] = df1['week of occurrence'].astype(int)"
   ]
  },
  {
   "cell_type": "code",
   "execution_count": 12,
   "id": "a9fa6595",
   "metadata": {},
   "outputs": [],
   "source": [
    "#Number of deaths changed to integer datatype\n",
    "\n",
    "df1['number of deaths'] = df1['number of deaths'].astype(int)"
   ]
  },
  {
   "cell_type": "code",
   "execution_count": 13,
   "id": "4b73f690",
   "metadata": {},
   "outputs": [
    {
     "name": "stdout",
     "output_type": "stream",
     "text": [
      "week of occurrence     int32\n",
      "health board          object\n",
      "location              object\n",
      "year                   int32\n",
      "number of deaths       int32\n",
      "dtype: object\n"
     ]
    }
   ],
   "source": [
    "#Checked the datatype again for df1\n",
    "\n",
    "print(df1.dtypes)"
   ]
  },
  {
   "cell_type": "code",
   "execution_count": 14,
   "id": "7657041e",
   "metadata": {},
   "outputs": [
    {
     "data": {
      "text/plain": [
       "array(['Care Home', 'Home / Non-institution', 'Hospital',\n",
       "       'Other institution'], dtype=object)"
      ]
     },
     "execution_count": 14,
     "metadata": {},
     "output_type": "execute_result"
    }
   ],
   "source": [
    "#Printed the unique values of location column from df1\n",
    "\n",
    "df1['location'].unique()"
   ]
  },
  {
   "cell_type": "code",
   "execution_count": 15,
   "id": "c1731cd4",
   "metadata": {},
   "outputs": [],
   "source": [
    "#Created a new variable called newdf1 and copied the df1 in it. Created a copy of the original df1 for the analysis.\n",
    "\n",
    "newdf1 = df1.copy()"
   ]
  },
  {
   "cell_type": "markdown",
   "id": "b848d550",
   "metadata": {},
   "source": [
    "# Expected deaths baseline 2015-2019 calculation "
   ]
  },
  {
   "cell_type": "markdown",
   "id": "f4376f17",
   "metadata": {},
   "source": [
    "## Calculation of expected death for care home "
   ]
  },
  {
   "cell_type": "code",
   "execution_count": 16,
   "id": "1252b7ba",
   "metadata": {},
   "outputs": [],
   "source": [
    "#Expected death calculation on weekly basis for care home\n",
    "\n",
    "#For the calculation week 53 was not included so it is filtered out\n",
    "\n",
    "newdf1_care_home = newdf1[newdf1['week of occurrence'] != 53]\n",
    "\n",
    "#Since data for only care home is needed, location is set to care home\n",
    "\n",
    "newdf1_care_home = newdf1[newdf1['location'] == 'Care Home']\n",
    "\n",
    "#The data is grouped by the year, week and calculate the sum of the number of deaths for each week over all years 2015-2019\n",
    "\n",
    "grouped_care_home = newdf1_care_home.groupby(['year', 'week of occurrence'])['number of deaths'].sum().reset_index()\n",
    "\n",
    "#Calculated the expected number of deaths for each week based on historical data and saved it into a variable called 'expected_care_home'\n",
    "\n",
    "expected_care_home = grouped_care_home.groupby('week of occurrence')['number of deaths'].mean()\n",
    "expected_care_home;"
   ]
  },
  {
   "cell_type": "markdown",
   "id": "52f96669",
   "metadata": {},
   "source": [
    "## Calculation of expected death for home / non-institution"
   ]
  },
  {
   "cell_type": "code",
   "execution_count": 17,
   "id": "2d273534",
   "metadata": {},
   "outputs": [],
   "source": [
    "#Expected deaths calculation on weekly basis for Home / Non-institution\n",
    "\n",
    "#For the calculation week 53 was not included so it is filtered out\n",
    "\n",
    "newdf1_home_non_inst = newdf1[newdf1['week of occurrence'] != 53]\n",
    "\n",
    "#Since data for only home / non-institution is needed, location is set to home / non-institution\n",
    "\n",
    "newdf1_home_non_inst = newdf1[newdf1['location'] == 'Home / Non-institution']\n",
    "\n",
    "#The data is grouped by the year, week and calculate the sum of deaths for each week over all years 2015-2019\n",
    "\n",
    "grouped_home_non_inst = newdf1_home_non_inst.groupby(['year', 'week of occurrence'])['number of deaths'].sum().reset_index()\n",
    "\n",
    "#Calculated the expected number of deaths for each week based on historical data and saved it into a variable called 'expected_home_non_inst'\n",
    "\n",
    "expected_home_non_inst = grouped_home_non_inst.groupby('week of occurrence')['number of deaths'].mean()\n",
    "expected_home_non_inst;"
   ]
  },
  {
   "cell_type": "markdown",
   "id": "8f8d859d",
   "metadata": {},
   "source": [
    "## Calculation of expected death for hospital"
   ]
  },
  {
   "cell_type": "code",
   "execution_count": 18,
   "id": "332d5ab0",
   "metadata": {},
   "outputs": [],
   "source": [
    "#Expected deaths calculation on weekly basis for Hospital\n",
    "\n",
    "#For the calculation week 53 was not included so it is filtered out\n",
    "\n",
    "newdf1_hospital = newdf1[newdf1['week of occurrence'] != 53]\n",
    "\n",
    "#Since data for only hospital is needed, location is set to hospital\n",
    "\n",
    "newdf1_hospital = newdf1[newdf1['location'] == 'Hospital']\n",
    "\n",
    "#The data is grouped by year, week and calculate the sum of deaths for each week over all years 2015-2019\n",
    "\n",
    "grouped_hospital = newdf1_hospital.groupby(['year', 'week of occurrence'])['number of deaths'].sum().reset_index()\n",
    "\n",
    "#Calculated the expected number of deaths for each week based on historical data and saved it into a variable called 'expected_hospital'\n",
    "\n",
    "expected_hospital = grouped_hospital.groupby('week of occurrence')['number of deaths'].mean()\n",
    "expected_hospital;"
   ]
  },
  {
   "cell_type": "markdown",
   "id": "71163c3a",
   "metadata": {},
   "source": [
    "## Calculation of expected death for other institution"
   ]
  },
  {
   "cell_type": "code",
   "execution_count": 19,
   "id": "d04e4390",
   "metadata": {},
   "outputs": [],
   "source": [
    "#Expected deaths calculation on weekly basis for Other institution\n",
    "\n",
    "#For the calculation week 53 was not included so it is filtered out\n",
    "\n",
    "newdf1_other_inst = newdf1[newdf1['week of occurrence'] != 53]\n",
    "\n",
    "#Since data for only other institution is needed, location is set to other institution\n",
    "\n",
    "newdf1_other_inst = newdf1[newdf1['location'] == 'Other institution']\n",
    "\n",
    "#The data is grouped by the year, week and calculate the sum of deaths for each week over all years 2015-2019\n",
    "\n",
    "grouped_other_inst = newdf1_other_inst.groupby(['year', 'week of occurrence'])['number of deaths'].sum().reset_index()\n",
    "\n",
    "#Calculated the expected number of deaths for each week based on historical data and saved it into a variable called 'expected_other_inst'\n",
    "\n",
    "expected_other_inst = grouped_other_inst.groupby('week of occurrence')['number of deaths'].mean()\n",
    "expected_other_inst;"
   ]
  },
  {
   "cell_type": "markdown",
   "id": "31283a4c",
   "metadata": {},
   "source": [
    "For the calculation of excess deaths week 53 and year 2023 was not included because not every week contains week 53 also year 2023 does not contains proper data for the analysis. If both the things were included it will cause inaccuracy in the calculation."
   ]
  },
  {
   "cell_type": "markdown",
   "id": "191e50b0",
   "metadata": {},
   "source": [
    "# Second dataset for which the excess deaths will be calculated imported 2020-2023"
   ]
  },
  {
   "cell_type": "code",
   "execution_count": 20,
   "id": "8941590f",
   "metadata": {},
   "outputs": [],
   "source": [
    "#Dataset imported for the excess death analysis 2020-2023 and assigned it into a variable called 'df2'\n",
    "\n",
    "df2 = pd.read_csv(\"C:/Users/Admin1/OneDrive/Desktop/Project MSc Data Science/weekly-deaths-by-date-health-board-location.csv\")"
   ]
  },
  {
   "cell_type": "code",
   "execution_count": 21,
   "id": "0282759d",
   "metadata": {},
   "outputs": [
    {
     "data": {
      "text/html": [
       "<div>\n",
       "<style scoped>\n",
       "    .dataframe tbody tr th:only-of-type {\n",
       "        vertical-align: middle;\n",
       "    }\n",
       "\n",
       "    .dataframe tbody tr th {\n",
       "        vertical-align: top;\n",
       "    }\n",
       "\n",
       "    .dataframe thead th {\n",
       "        text-align: right;\n",
       "    }\n",
       "</style>\n",
       "<table border=\"1\" class=\"dataframe\">\n",
       "  <thead>\n",
       "    <tr style=\"text-align: right;\">\n",
       "      <th></th>\n",
       "      <th>Data for weekly deaths (occurrences)1, by Health Board, location and cause, 2020-2023</th>\n",
       "      <th>Unnamed: 1</th>\n",
       "      <th>Unnamed: 2</th>\n",
       "      <th>Unnamed: 3</th>\n",
       "      <th>Unnamed: 4</th>\n",
       "      <th>Unnamed: 5</th>\n",
       "      <th>Unnamed: 6</th>\n",
       "      <th>back to contents</th>\n",
       "      <th>Unnamed: 8</th>\n",
       "    </tr>\n",
       "  </thead>\n",
       "  <tbody>\n",
       "    <tr>\n",
       "      <th>0</th>\n",
       "      <td>NaN</td>\n",
       "      <td>NaN</td>\n",
       "      <td>NaN</td>\n",
       "      <td>NaN</td>\n",
       "      <td>NaN</td>\n",
       "      <td>NaN</td>\n",
       "      <td>NaN</td>\n",
       "      <td>NaN</td>\n",
       "      <td>NaN</td>\n",
       "    </tr>\n",
       "    <tr>\n",
       "      <th>1</th>\n",
       "      <td>Week of occurrence</td>\n",
       "      <td>Health Board</td>\n",
       "      <td>Location of death</td>\n",
       "      <td>Cause of Death</td>\n",
       "      <td>deaths</td>\n",
       "      <td>NaN</td>\n",
       "      <td>NaN</td>\n",
       "      <td>NaN</td>\n",
       "      <td>NaN</td>\n",
       "    </tr>\n",
       "    <tr>\n",
       "      <th>2</th>\n",
       "      <td>20W01</td>\n",
       "      <td>Ayrshire and Arran</td>\n",
       "      <td>Care Home</td>\n",
       "      <td>Non-COVID-19</td>\n",
       "      <td>23</td>\n",
       "      <td>NaN</td>\n",
       "      <td>NaN</td>\n",
       "      <td>NaN</td>\n",
       "      <td>NaN</td>\n",
       "    </tr>\n",
       "    <tr>\n",
       "      <th>3</th>\n",
       "      <td>20W01</td>\n",
       "      <td>Ayrshire and Arran</td>\n",
       "      <td>Home / Non-institution</td>\n",
       "      <td>Non-COVID-19</td>\n",
       "      <td>24</td>\n",
       "      <td>NaN</td>\n",
       "      <td>NaN</td>\n",
       "      <td>NaN</td>\n",
       "      <td>NaN</td>\n",
       "    </tr>\n",
       "    <tr>\n",
       "      <th>4</th>\n",
       "      <td>20W01</td>\n",
       "      <td>Ayrshire and Arran</td>\n",
       "      <td>Hospital</td>\n",
       "      <td>Non-COVID-19</td>\n",
       "      <td>48</td>\n",
       "      <td>NaN</td>\n",
       "      <td>NaN</td>\n",
       "      <td>NaN</td>\n",
       "      <td>NaN</td>\n",
       "    </tr>\n",
       "    <tr>\n",
       "      <th>...</th>\n",
       "      <td>...</td>\n",
       "      <td>...</td>\n",
       "      <td>...</td>\n",
       "      <td>...</td>\n",
       "      <td>...</td>\n",
       "      <td>...</td>\n",
       "      <td>...</td>\n",
       "      <td>...</td>\n",
       "      <td>...</td>\n",
       "    </tr>\n",
       "    <tr>\n",
       "      <th>11482</th>\n",
       "      <td>23W09</td>\n",
       "      <td>Tayside</td>\n",
       "      <td>Other institution</td>\n",
       "      <td>Non-COVID-19</td>\n",
       "      <td>1</td>\n",
       "      <td>NaN</td>\n",
       "      <td>NaN</td>\n",
       "      <td>NaN</td>\n",
       "      <td>NaN</td>\n",
       "    </tr>\n",
       "    <tr>\n",
       "      <th>11483</th>\n",
       "      <td>23W09</td>\n",
       "      <td>Western Isles</td>\n",
       "      <td>Home / Non-institution</td>\n",
       "      <td>COVID-19 underlying cause</td>\n",
       "      <td>1</td>\n",
       "      <td>NaN</td>\n",
       "      <td>NaN</td>\n",
       "      <td>NaN</td>\n",
       "      <td>NaN</td>\n",
       "    </tr>\n",
       "    <tr>\n",
       "      <th>11484</th>\n",
       "      <td>23W09</td>\n",
       "      <td>Western Isles</td>\n",
       "      <td>Home / Non-institution</td>\n",
       "      <td>Non-COVID-19</td>\n",
       "      <td>2</td>\n",
       "      <td>NaN</td>\n",
       "      <td>NaN</td>\n",
       "      <td>NaN</td>\n",
       "      <td>NaN</td>\n",
       "    </tr>\n",
       "    <tr>\n",
       "      <th>11485</th>\n",
       "      <td>NaN</td>\n",
       "      <td>NaN</td>\n",
       "      <td>NaN</td>\n",
       "      <td>NaN</td>\n",
       "      <td>NaN</td>\n",
       "      <td>NaN</td>\n",
       "      <td>NaN</td>\n",
       "      <td>NaN</td>\n",
       "      <td>NaN</td>\n",
       "    </tr>\n",
       "    <tr>\n",
       "      <th>11486</th>\n",
       "      <td>© Crown Copyright 2023</td>\n",
       "      <td>NaN</td>\n",
       "      <td>NaN</td>\n",
       "      <td>NaN</td>\n",
       "      <td>NaN</td>\n",
       "      <td>NaN</td>\n",
       "      <td>NaN</td>\n",
       "      <td>NaN</td>\n",
       "      <td>NaN</td>\n",
       "    </tr>\n",
       "  </tbody>\n",
       "</table>\n",
       "<p>11487 rows × 9 columns</p>\n",
       "</div>"
      ],
      "text/plain": [
       "      Data for weekly deaths (occurrences)1, by Health Board, location and cause, 2020-2023  \\\n",
       "0                                                    NaN                                      \n",
       "1                                     Week of occurrence                                      \n",
       "2                                                  20W01                                      \n",
       "3                                                  20W01                                      \n",
       "4                                                  20W01                                      \n",
       "...                                                  ...                                      \n",
       "11482                                              23W09                                      \n",
       "11483                                              23W09                                      \n",
       "11484                                              23W09                                      \n",
       "11485                                                NaN                                      \n",
       "11486                             © Crown Copyright 2023                                      \n",
       "\n",
       "               Unnamed: 1              Unnamed: 2                 Unnamed: 3  \\\n",
       "0                     NaN                     NaN                        NaN   \n",
       "1            Health Board       Location of death             Cause of Death   \n",
       "2      Ayrshire and Arran               Care Home               Non-COVID-19   \n",
       "3      Ayrshire and Arran  Home / Non-institution               Non-COVID-19   \n",
       "4      Ayrshire and Arran                Hospital               Non-COVID-19   \n",
       "...                   ...                     ...                        ...   \n",
       "11482             Tayside       Other institution               Non-COVID-19   \n",
       "11483       Western Isles  Home / Non-institution  COVID-19 underlying cause   \n",
       "11484       Western Isles  Home / Non-institution               Non-COVID-19   \n",
       "11485                 NaN                     NaN                        NaN   \n",
       "11486                 NaN                     NaN                        NaN   \n",
       "\n",
       "      Unnamed: 4  Unnamed: 5  Unnamed: 6  back to contents  Unnamed: 8  \n",
       "0            NaN         NaN         NaN               NaN         NaN  \n",
       "1         deaths         NaN         NaN               NaN         NaN  \n",
       "2             23         NaN         NaN               NaN         NaN  \n",
       "3             24         NaN         NaN               NaN         NaN  \n",
       "4             48         NaN         NaN               NaN         NaN  \n",
       "...          ...         ...         ...               ...         ...  \n",
       "11482          1         NaN         NaN               NaN         NaN  \n",
       "11483          1         NaN         NaN               NaN         NaN  \n",
       "11484          2         NaN         NaN               NaN         NaN  \n",
       "11485        NaN         NaN         NaN               NaN         NaN  \n",
       "11486        NaN         NaN         NaN               NaN         NaN  \n",
       "\n",
       "[11487 rows x 9 columns]"
      ]
     },
     "execution_count": 21,
     "metadata": {},
     "output_type": "execute_result"
    }
   ],
   "source": [
    "df2"
   ]
  },
  {
   "cell_type": "code",
   "execution_count": 22,
   "id": "960fbd8a",
   "metadata": {},
   "outputs": [],
   "source": [
    "#Since the columns heading are named as \"Unnamed\" it is renamed by the (.rename function) to the relevant names for the columns.\n",
    "\n",
    "df2 = df2.rename(columns = {\n",
    "    'Data for weekly deaths (occurrences)1, by Health Board, location and cause, 2020-2023': 'Week of occurrence',\n",
    "    'Unnamed: 1': 'Health Board',\n",
    "    'Unnamed: 2': 'Location of death',\n",
    "    'Unnamed: 3': 'Cause of Death',\n",
    "    'Unnamed: 4': 'deaths'\n",
    "})"
   ]
  },
  {
   "cell_type": "code",
   "execution_count": 23,
   "id": "652cb622",
   "metadata": {},
   "outputs": [
    {
     "data": {
      "text/html": [
       "<div>\n",
       "<style scoped>\n",
       "    .dataframe tbody tr th:only-of-type {\n",
       "        vertical-align: middle;\n",
       "    }\n",
       "\n",
       "    .dataframe tbody tr th {\n",
       "        vertical-align: top;\n",
       "    }\n",
       "\n",
       "    .dataframe thead th {\n",
       "        text-align: right;\n",
       "    }\n",
       "</style>\n",
       "<table border=\"1\" class=\"dataframe\">\n",
       "  <thead>\n",
       "    <tr style=\"text-align: right;\">\n",
       "      <th></th>\n",
       "      <th>Week of occurrence</th>\n",
       "      <th>Health Board</th>\n",
       "      <th>Location of death</th>\n",
       "      <th>Cause of Death</th>\n",
       "      <th>deaths</th>\n",
       "      <th>Unnamed: 5</th>\n",
       "      <th>Unnamed: 6</th>\n",
       "      <th>back to contents</th>\n",
       "      <th>Unnamed: 8</th>\n",
       "    </tr>\n",
       "  </thead>\n",
       "  <tbody>\n",
       "    <tr>\n",
       "      <th>0</th>\n",
       "      <td>NaN</td>\n",
       "      <td>NaN</td>\n",
       "      <td>NaN</td>\n",
       "      <td>NaN</td>\n",
       "      <td>NaN</td>\n",
       "      <td>NaN</td>\n",
       "      <td>NaN</td>\n",
       "      <td>NaN</td>\n",
       "      <td>NaN</td>\n",
       "    </tr>\n",
       "    <tr>\n",
       "      <th>1</th>\n",
       "      <td>Week of occurrence</td>\n",
       "      <td>Health Board</td>\n",
       "      <td>Location of death</td>\n",
       "      <td>Cause of Death</td>\n",
       "      <td>deaths</td>\n",
       "      <td>NaN</td>\n",
       "      <td>NaN</td>\n",
       "      <td>NaN</td>\n",
       "      <td>NaN</td>\n",
       "    </tr>\n",
       "    <tr>\n",
       "      <th>2</th>\n",
       "      <td>20W01</td>\n",
       "      <td>Ayrshire and Arran</td>\n",
       "      <td>Care Home</td>\n",
       "      <td>Non-COVID-19</td>\n",
       "      <td>23</td>\n",
       "      <td>NaN</td>\n",
       "      <td>NaN</td>\n",
       "      <td>NaN</td>\n",
       "      <td>NaN</td>\n",
       "    </tr>\n",
       "    <tr>\n",
       "      <th>3</th>\n",
       "      <td>20W01</td>\n",
       "      <td>Ayrshire and Arran</td>\n",
       "      <td>Home / Non-institution</td>\n",
       "      <td>Non-COVID-19</td>\n",
       "      <td>24</td>\n",
       "      <td>NaN</td>\n",
       "      <td>NaN</td>\n",
       "      <td>NaN</td>\n",
       "      <td>NaN</td>\n",
       "    </tr>\n",
       "    <tr>\n",
       "      <th>4</th>\n",
       "      <td>20W01</td>\n",
       "      <td>Ayrshire and Arran</td>\n",
       "      <td>Hospital</td>\n",
       "      <td>Non-COVID-19</td>\n",
       "      <td>48</td>\n",
       "      <td>NaN</td>\n",
       "      <td>NaN</td>\n",
       "      <td>NaN</td>\n",
       "      <td>NaN</td>\n",
       "    </tr>\n",
       "    <tr>\n",
       "      <th>...</th>\n",
       "      <td>...</td>\n",
       "      <td>...</td>\n",
       "      <td>...</td>\n",
       "      <td>...</td>\n",
       "      <td>...</td>\n",
       "      <td>...</td>\n",
       "      <td>...</td>\n",
       "      <td>...</td>\n",
       "      <td>...</td>\n",
       "    </tr>\n",
       "    <tr>\n",
       "      <th>11482</th>\n",
       "      <td>23W09</td>\n",
       "      <td>Tayside</td>\n",
       "      <td>Other institution</td>\n",
       "      <td>Non-COVID-19</td>\n",
       "      <td>1</td>\n",
       "      <td>NaN</td>\n",
       "      <td>NaN</td>\n",
       "      <td>NaN</td>\n",
       "      <td>NaN</td>\n",
       "    </tr>\n",
       "    <tr>\n",
       "      <th>11483</th>\n",
       "      <td>23W09</td>\n",
       "      <td>Western Isles</td>\n",
       "      <td>Home / Non-institution</td>\n",
       "      <td>COVID-19 underlying cause</td>\n",
       "      <td>1</td>\n",
       "      <td>NaN</td>\n",
       "      <td>NaN</td>\n",
       "      <td>NaN</td>\n",
       "      <td>NaN</td>\n",
       "    </tr>\n",
       "    <tr>\n",
       "      <th>11484</th>\n",
       "      <td>23W09</td>\n",
       "      <td>Western Isles</td>\n",
       "      <td>Home / Non-institution</td>\n",
       "      <td>Non-COVID-19</td>\n",
       "      <td>2</td>\n",
       "      <td>NaN</td>\n",
       "      <td>NaN</td>\n",
       "      <td>NaN</td>\n",
       "      <td>NaN</td>\n",
       "    </tr>\n",
       "    <tr>\n",
       "      <th>11485</th>\n",
       "      <td>NaN</td>\n",
       "      <td>NaN</td>\n",
       "      <td>NaN</td>\n",
       "      <td>NaN</td>\n",
       "      <td>NaN</td>\n",
       "      <td>NaN</td>\n",
       "      <td>NaN</td>\n",
       "      <td>NaN</td>\n",
       "      <td>NaN</td>\n",
       "    </tr>\n",
       "    <tr>\n",
       "      <th>11486</th>\n",
       "      <td>© Crown Copyright 2023</td>\n",
       "      <td>NaN</td>\n",
       "      <td>NaN</td>\n",
       "      <td>NaN</td>\n",
       "      <td>NaN</td>\n",
       "      <td>NaN</td>\n",
       "      <td>NaN</td>\n",
       "      <td>NaN</td>\n",
       "      <td>NaN</td>\n",
       "    </tr>\n",
       "  </tbody>\n",
       "</table>\n",
       "<p>11487 rows × 9 columns</p>\n",
       "</div>"
      ],
      "text/plain": [
       "           Week of occurrence        Health Board       Location of death  \\\n",
       "0                         NaN                 NaN                     NaN   \n",
       "1          Week of occurrence        Health Board       Location of death   \n",
       "2                       20W01  Ayrshire and Arran               Care Home   \n",
       "3                       20W01  Ayrshire and Arran  Home / Non-institution   \n",
       "4                       20W01  Ayrshire and Arran                Hospital   \n",
       "...                       ...                 ...                     ...   \n",
       "11482                   23W09             Tayside       Other institution   \n",
       "11483                   23W09       Western Isles  Home / Non-institution   \n",
       "11484                   23W09       Western Isles  Home / Non-institution   \n",
       "11485                     NaN                 NaN                     NaN   \n",
       "11486  © Crown Copyright 2023                 NaN                     NaN   \n",
       "\n",
       "                  Cause of Death  deaths  Unnamed: 5  Unnamed: 6  \\\n",
       "0                            NaN     NaN         NaN         NaN   \n",
       "1                 Cause of Death  deaths         NaN         NaN   \n",
       "2                   Non-COVID-19      23         NaN         NaN   \n",
       "3                   Non-COVID-19      24         NaN         NaN   \n",
       "4                   Non-COVID-19      48         NaN         NaN   \n",
       "...                          ...     ...         ...         ...   \n",
       "11482               Non-COVID-19       1         NaN         NaN   \n",
       "11483  COVID-19 underlying cause       1         NaN         NaN   \n",
       "11484               Non-COVID-19       2         NaN         NaN   \n",
       "11485                        NaN     NaN         NaN         NaN   \n",
       "11486                        NaN     NaN         NaN         NaN   \n",
       "\n",
       "       back to contents  Unnamed: 8  \n",
       "0                   NaN         NaN  \n",
       "1                   NaN         NaN  \n",
       "2                   NaN         NaN  \n",
       "3                   NaN         NaN  \n",
       "4                   NaN         NaN  \n",
       "...                 ...         ...  \n",
       "11482               NaN         NaN  \n",
       "11483               NaN         NaN  \n",
       "11484               NaN         NaN  \n",
       "11485               NaN         NaN  \n",
       "11486               NaN         NaN  \n",
       "\n",
       "[11487 rows x 9 columns]"
      ]
     },
     "execution_count": 23,
     "metadata": {},
     "output_type": "execute_result"
    }
   ],
   "source": [
    "df2"
   ]
  },
  {
   "cell_type": "code",
   "execution_count": 24,
   "id": "e474bd57",
   "metadata": {},
   "outputs": [],
   "source": [
    "#Dropped the columns which does not contains any values.\n",
    "\n",
    "df2.drop(columns=[\"Unnamed: 5\", \"Unnamed: 6\", \"back to contents\", \"Unnamed: 8\"], inplace=True)"
   ]
  },
  {
   "cell_type": "code",
   "execution_count": 25,
   "id": "47d93fe8",
   "metadata": {},
   "outputs": [
    {
     "data": {
      "text/html": [
       "<div>\n",
       "<style scoped>\n",
       "    .dataframe tbody tr th:only-of-type {\n",
       "        vertical-align: middle;\n",
       "    }\n",
       "\n",
       "    .dataframe tbody tr th {\n",
       "        vertical-align: top;\n",
       "    }\n",
       "\n",
       "    .dataframe thead th {\n",
       "        text-align: right;\n",
       "    }\n",
       "</style>\n",
       "<table border=\"1\" class=\"dataframe\">\n",
       "  <thead>\n",
       "    <tr style=\"text-align: right;\">\n",
       "      <th></th>\n",
       "      <th>Week of occurrence</th>\n",
       "      <th>Health Board</th>\n",
       "      <th>Location of death</th>\n",
       "      <th>Cause of Death</th>\n",
       "      <th>deaths</th>\n",
       "    </tr>\n",
       "  </thead>\n",
       "  <tbody>\n",
       "    <tr>\n",
       "      <th>0</th>\n",
       "      <td>NaN</td>\n",
       "      <td>NaN</td>\n",
       "      <td>NaN</td>\n",
       "      <td>NaN</td>\n",
       "      <td>NaN</td>\n",
       "    </tr>\n",
       "    <tr>\n",
       "      <th>1</th>\n",
       "      <td>Week of occurrence</td>\n",
       "      <td>Health Board</td>\n",
       "      <td>Location of death</td>\n",
       "      <td>Cause of Death</td>\n",
       "      <td>deaths</td>\n",
       "    </tr>\n",
       "    <tr>\n",
       "      <th>2</th>\n",
       "      <td>20W01</td>\n",
       "      <td>Ayrshire and Arran</td>\n",
       "      <td>Care Home</td>\n",
       "      <td>Non-COVID-19</td>\n",
       "      <td>23</td>\n",
       "    </tr>\n",
       "    <tr>\n",
       "      <th>3</th>\n",
       "      <td>20W01</td>\n",
       "      <td>Ayrshire and Arran</td>\n",
       "      <td>Home / Non-institution</td>\n",
       "      <td>Non-COVID-19</td>\n",
       "      <td>24</td>\n",
       "    </tr>\n",
       "    <tr>\n",
       "      <th>4</th>\n",
       "      <td>20W01</td>\n",
       "      <td>Ayrshire and Arran</td>\n",
       "      <td>Hospital</td>\n",
       "      <td>Non-COVID-19</td>\n",
       "      <td>48</td>\n",
       "    </tr>\n",
       "    <tr>\n",
       "      <th>...</th>\n",
       "      <td>...</td>\n",
       "      <td>...</td>\n",
       "      <td>...</td>\n",
       "      <td>...</td>\n",
       "      <td>...</td>\n",
       "    </tr>\n",
       "    <tr>\n",
       "      <th>11482</th>\n",
       "      <td>23W09</td>\n",
       "      <td>Tayside</td>\n",
       "      <td>Other institution</td>\n",
       "      <td>Non-COVID-19</td>\n",
       "      <td>1</td>\n",
       "    </tr>\n",
       "    <tr>\n",
       "      <th>11483</th>\n",
       "      <td>23W09</td>\n",
       "      <td>Western Isles</td>\n",
       "      <td>Home / Non-institution</td>\n",
       "      <td>COVID-19 underlying cause</td>\n",
       "      <td>1</td>\n",
       "    </tr>\n",
       "    <tr>\n",
       "      <th>11484</th>\n",
       "      <td>23W09</td>\n",
       "      <td>Western Isles</td>\n",
       "      <td>Home / Non-institution</td>\n",
       "      <td>Non-COVID-19</td>\n",
       "      <td>2</td>\n",
       "    </tr>\n",
       "    <tr>\n",
       "      <th>11485</th>\n",
       "      <td>NaN</td>\n",
       "      <td>NaN</td>\n",
       "      <td>NaN</td>\n",
       "      <td>NaN</td>\n",
       "      <td>NaN</td>\n",
       "    </tr>\n",
       "    <tr>\n",
       "      <th>11486</th>\n",
       "      <td>© Crown Copyright 2023</td>\n",
       "      <td>NaN</td>\n",
       "      <td>NaN</td>\n",
       "      <td>NaN</td>\n",
       "      <td>NaN</td>\n",
       "    </tr>\n",
       "  </tbody>\n",
       "</table>\n",
       "<p>11487 rows × 5 columns</p>\n",
       "</div>"
      ],
      "text/plain": [
       "           Week of occurrence        Health Board       Location of death  \\\n",
       "0                         NaN                 NaN                     NaN   \n",
       "1          Week of occurrence        Health Board       Location of death   \n",
       "2                       20W01  Ayrshire and Arran               Care Home   \n",
       "3                       20W01  Ayrshire and Arran  Home / Non-institution   \n",
       "4                       20W01  Ayrshire and Arran                Hospital   \n",
       "...                       ...                 ...                     ...   \n",
       "11482                   23W09             Tayside       Other institution   \n",
       "11483                   23W09       Western Isles  Home / Non-institution   \n",
       "11484                   23W09       Western Isles  Home / Non-institution   \n",
       "11485                     NaN                 NaN                     NaN   \n",
       "11486  © Crown Copyright 2023                 NaN                     NaN   \n",
       "\n",
       "                  Cause of Death  deaths  \n",
       "0                            NaN     NaN  \n",
       "1                 Cause of Death  deaths  \n",
       "2                   Non-COVID-19      23  \n",
       "3                   Non-COVID-19      24  \n",
       "4                   Non-COVID-19      48  \n",
       "...                          ...     ...  \n",
       "11482               Non-COVID-19       1  \n",
       "11483  COVID-19 underlying cause       1  \n",
       "11484               Non-COVID-19       2  \n",
       "11485                        NaN     NaN  \n",
       "11486                        NaN     NaN  \n",
       "\n",
       "[11487 rows x 5 columns]"
      ]
     },
     "execution_count": 25,
     "metadata": {},
     "output_type": "execute_result"
    }
   ],
   "source": [
    "df2"
   ]
  },
  {
   "cell_type": "code",
   "execution_count": 26,
   "id": "6ff9f177",
   "metadata": {},
   "outputs": [],
   "source": [
    "#Dropped the first row since it was duplicating the column names\n",
    "\n",
    "df2 = df2.drop(index=1)"
   ]
  },
  {
   "cell_type": "code",
   "execution_count": 27,
   "id": "5dece36e",
   "metadata": {},
   "outputs": [],
   "source": [
    "#Dropped the nan values from the df2\n",
    "\n",
    "df2.dropna(inplace = True)"
   ]
  },
  {
   "cell_type": "code",
   "execution_count": 28,
   "id": "ed5b06f2",
   "metadata": {},
   "outputs": [],
   "source": [
    "#Restarted the index with 0\n",
    "\n",
    "start = 0\n",
    "df2.index = range(start, start +len(df2))"
   ]
  },
  {
   "cell_type": "code",
   "execution_count": 29,
   "id": "b2581377",
   "metadata": {},
   "outputs": [
    {
     "data": {
      "text/html": [
       "<div>\n",
       "<style scoped>\n",
       "    .dataframe tbody tr th:only-of-type {\n",
       "        vertical-align: middle;\n",
       "    }\n",
       "\n",
       "    .dataframe tbody tr th {\n",
       "        vertical-align: top;\n",
       "    }\n",
       "\n",
       "    .dataframe thead th {\n",
       "        text-align: right;\n",
       "    }\n",
       "</style>\n",
       "<table border=\"1\" class=\"dataframe\">\n",
       "  <thead>\n",
       "    <tr style=\"text-align: right;\">\n",
       "      <th></th>\n",
       "      <th>Week of occurrence</th>\n",
       "      <th>Health Board</th>\n",
       "      <th>Location of death</th>\n",
       "      <th>Cause of Death</th>\n",
       "      <th>deaths</th>\n",
       "    </tr>\n",
       "  </thead>\n",
       "  <tbody>\n",
       "    <tr>\n",
       "      <th>0</th>\n",
       "      <td>20W01</td>\n",
       "      <td>Ayrshire and Arran</td>\n",
       "      <td>Care Home</td>\n",
       "      <td>Non-COVID-19</td>\n",
       "      <td>23</td>\n",
       "    </tr>\n",
       "    <tr>\n",
       "      <th>1</th>\n",
       "      <td>20W01</td>\n",
       "      <td>Ayrshire and Arran</td>\n",
       "      <td>Home / Non-institution</td>\n",
       "      <td>Non-COVID-19</td>\n",
       "      <td>24</td>\n",
       "    </tr>\n",
       "    <tr>\n",
       "      <th>2</th>\n",
       "      <td>20W01</td>\n",
       "      <td>Ayrshire and Arran</td>\n",
       "      <td>Hospital</td>\n",
       "      <td>Non-COVID-19</td>\n",
       "      <td>48</td>\n",
       "    </tr>\n",
       "    <tr>\n",
       "      <th>3</th>\n",
       "      <td>20W01</td>\n",
       "      <td>Borders</td>\n",
       "      <td>Care Home</td>\n",
       "      <td>Non-COVID-19</td>\n",
       "      <td>9</td>\n",
       "    </tr>\n",
       "    <tr>\n",
       "      <th>4</th>\n",
       "      <td>20W01</td>\n",
       "      <td>Borders</td>\n",
       "      <td>Home / Non-institution</td>\n",
       "      <td>Non-COVID-19</td>\n",
       "      <td>6</td>\n",
       "    </tr>\n",
       "    <tr>\n",
       "      <th>...</th>\n",
       "      <td>...</td>\n",
       "      <td>...</td>\n",
       "      <td>...</td>\n",
       "      <td>...</td>\n",
       "      <td>...</td>\n",
       "    </tr>\n",
       "    <tr>\n",
       "      <th>11478</th>\n",
       "      <td>23W09</td>\n",
       "      <td>Tayside</td>\n",
       "      <td>Home / Non-institution</td>\n",
       "      <td>Non-COVID-19</td>\n",
       "      <td>11</td>\n",
       "    </tr>\n",
       "    <tr>\n",
       "      <th>11479</th>\n",
       "      <td>23W09</td>\n",
       "      <td>Tayside</td>\n",
       "      <td>Hospital</td>\n",
       "      <td>Non-COVID-19</td>\n",
       "      <td>12</td>\n",
       "    </tr>\n",
       "    <tr>\n",
       "      <th>11480</th>\n",
       "      <td>23W09</td>\n",
       "      <td>Tayside</td>\n",
       "      <td>Other institution</td>\n",
       "      <td>Non-COVID-19</td>\n",
       "      <td>1</td>\n",
       "    </tr>\n",
       "    <tr>\n",
       "      <th>11481</th>\n",
       "      <td>23W09</td>\n",
       "      <td>Western Isles</td>\n",
       "      <td>Home / Non-institution</td>\n",
       "      <td>COVID-19 underlying cause</td>\n",
       "      <td>1</td>\n",
       "    </tr>\n",
       "    <tr>\n",
       "      <th>11482</th>\n",
       "      <td>23W09</td>\n",
       "      <td>Western Isles</td>\n",
       "      <td>Home / Non-institution</td>\n",
       "      <td>Non-COVID-19</td>\n",
       "      <td>2</td>\n",
       "    </tr>\n",
       "  </tbody>\n",
       "</table>\n",
       "<p>11483 rows × 5 columns</p>\n",
       "</div>"
      ],
      "text/plain": [
       "      Week of occurrence        Health Board       Location of death  \\\n",
       "0                  20W01  Ayrshire and Arran               Care Home   \n",
       "1                  20W01  Ayrshire and Arran  Home / Non-institution   \n",
       "2                  20W01  Ayrshire and Arran                Hospital   \n",
       "3                  20W01             Borders               Care Home   \n",
       "4                  20W01             Borders  Home / Non-institution   \n",
       "...                  ...                 ...                     ...   \n",
       "11478              23W09             Tayside  Home / Non-institution   \n",
       "11479              23W09             Tayside                Hospital   \n",
       "11480              23W09             Tayside       Other institution   \n",
       "11481              23W09       Western Isles  Home / Non-institution   \n",
       "11482              23W09       Western Isles  Home / Non-institution   \n",
       "\n",
       "                  Cause of Death deaths  \n",
       "0                   Non-COVID-19     23  \n",
       "1                   Non-COVID-19     24  \n",
       "2                   Non-COVID-19     48  \n",
       "3                   Non-COVID-19      9  \n",
       "4                   Non-COVID-19      6  \n",
       "...                          ...    ...  \n",
       "11478               Non-COVID-19     11  \n",
       "11479               Non-COVID-19     12  \n",
       "11480               Non-COVID-19      1  \n",
       "11481  COVID-19 underlying cause      1  \n",
       "11482               Non-COVID-19      2  \n",
       "\n",
       "[11483 rows x 5 columns]"
      ]
     },
     "execution_count": 29,
     "metadata": {},
     "output_type": "execute_result"
    }
   ],
   "source": [
    "df2"
   ]
  },
  {
   "cell_type": "code",
   "execution_count": 30,
   "id": "942ed5fd",
   "metadata": {},
   "outputs": [],
   "source": [
    "#Defined a function and used if-else statement to seperate the year from the week of occurrence column since\n",
    "#it contains both week-year together in an inter-string format and created a seperate column name year.\n",
    "#The if-else statement says that if week of occurrence starts with specify year eg(20,21,22 and 23)\n",
    "#write it as (2020,2021,2022 and 2023) and saved it into a new column named 'year'\n",
    "\n",
    "def get_year_from_week(week_of_occurrence):\n",
    "    if week_of_occurrence.startswith('20'):\n",
    "        return '2020'\n",
    "    elif week_of_occurrence.startswith('21'):\n",
    "        return '2021'\n",
    "    elif week_of_occurrence.startswith('22'):\n",
    "        return '2022'\n",
    "    elif week_of_occurrence.startswith('23'):\n",
    "        return '2023'\n",
    "    else:\n",
    "        return None\n",
    "\n",
    "#Applied the function to the 'week of occurrence'  column and created a new column named 'year'\n",
    "df2['Year'] = df2['Week of occurrence'].apply(get_year_from_week)\n"
   ]
  },
  {
   "cell_type": "code",
   "execution_count": 31,
   "id": "184a1af3",
   "metadata": {},
   "outputs": [],
   "source": [
    "#Defined a function to extract the week number from week string. Since the 'week of occurrence' column contains values in string\n",
    "#and integer format, week number was extracted from it. A function was defined to do so.The week string was first converted into\n",
    "#a date object then the week number was extracted from the date object and appiled if-else statement to numbered the week and\n",
    "#saved it into a column named 'week number'\n",
    "\n",
    "def get_week_number(week_str):\n",
    "    #Converted the week string to date object.The string is in the fromat of %yW%W-%w where %y is the last two digits of the year\n",
    "    #W is seperator for the week number, %W represent the week number.Week starts from 0 which is sunday till 6 which is saturday so\n",
    "    #The +'-1' is added to set the first day of the week.\n",
    "    week_date = datetime.strptime(week_str + '-1', '%yW%W-%w')\n",
    "\n",
    "    #Extracted week number from date object with the format of %W which returns a string and it is converted into an integer.\n",
    "    week_number = int(week_date.strftime('%W'))\n",
    "\n",
    "    #Created an if-else statement. If the week number is greater than 52 and month of the date object is 1 then start the\n",
    "    #week with 0 which indicates that it in previous year and if the week number is 1 and month is 12 the week number is set to 53.\n",
    "    if week_number >= 52 and week_date.month == 1:\n",
    "        week_number = 0\n",
    "    elif week_number == 1 and week_date.month == 12:\n",
    "        week_number = 53\n",
    "\n",
    "    # Return week number\n",
    "    return week_number\n",
    "\n",
    "#Applied the function to 'Week of occurrence' column to extract the week numbers and saved it into a new column named 'Week Number'\n",
    "df2['Week Number'] = df2['Week of occurrence'].apply(get_week_number)\n"
   ]
  },
  {
   "cell_type": "code",
   "execution_count": 32,
   "id": "78b026ff",
   "metadata": {},
   "outputs": [
    {
     "name": "stdout",
     "output_type": "stream",
     "text": [
      "Week of occurrence    object\n",
      "Health Board          object\n",
      "Location of death     object\n",
      "Cause of Death        object\n",
      "deaths                object\n",
      "Year                  object\n",
      "Week Number            int64\n",
      "dtype: object\n"
     ]
    }
   ],
   "source": [
    "#Checked the datatype for df2\n",
    "\n",
    "print(df2.dtypes)"
   ]
  },
  {
   "cell_type": "code",
   "execution_count": 33,
   "id": "89c32cf5",
   "metadata": {},
   "outputs": [],
   "source": [
    "#Converted the datatype of 'deaths' and 'year' since it is an object into 'integer'\n",
    "\n",
    "df2['deaths'] = df2['deaths'].astype(int)\n",
    "df2['Year'] = df2['Year'].astype(int)"
   ]
  },
  {
   "cell_type": "code",
   "execution_count": 34,
   "id": "b0bf99c0",
   "metadata": {},
   "outputs": [
    {
     "name": "stdout",
     "output_type": "stream",
     "text": [
      "Week of occurrence    object\n",
      "Health Board          object\n",
      "Location of death     object\n",
      "Cause of Death        object\n",
      "deaths                 int32\n",
      "Year                   int32\n",
      "Week Number            int64\n",
      "dtype: object\n"
     ]
    }
   ],
   "source": [
    "#Checked the datatype again for df2\n",
    "\n",
    "print(df2.dtypes)"
   ]
  },
  {
   "cell_type": "code",
   "execution_count": 35,
   "id": "c46d2069",
   "metadata": {},
   "outputs": [
    {
     "data": {
      "text/plain": [
       "array(['Care Home', 'Home / Non-institution', 'Hospital',\n",
       "       'Other institution'], dtype=object)"
      ]
     },
     "execution_count": 35,
     "metadata": {},
     "output_type": "execute_result"
    }
   ],
   "source": [
    "#Printed the unique values of location of death column from df2\n",
    "\n",
    "df2['Location of death'].unique()"
   ]
  },
  {
   "cell_type": "code",
   "execution_count": 36,
   "id": "1941308e",
   "metadata": {},
   "outputs": [],
   "source": [
    "#Created a new variable called newdf2 and copied the df2 in it. Created a copy of the original df2 for the analysis.\n",
    "\n",
    "newdf2 = df2.copy()"
   ]
  },
  {
   "cell_type": "markdown",
   "id": "7e6d216f",
   "metadata": {},
   "source": [
    "# Actual death calculation 2020-2022"
   ]
  },
  {
   "cell_type": "markdown",
   "id": "c25f6056",
   "metadata": {},
   "source": [
    "## Calculation of actual death for care home 2020"
   ]
  },
  {
   "cell_type": "code",
   "execution_count": 37,
   "id": "eb40303f",
   "metadata": {},
   "outputs": [],
   "source": [
    "#Actual death calculation on weekly basis for care home 2020\n",
    "\n",
    "#For the calculation week 53 was not included so it is filtered out\n",
    "\n",
    "newdf2_care_home_2020 = newdf2[newdf2['Week Number'] != 53]\n",
    "\n",
    "#Since data for only care home is needed, location is set to care home\n",
    "\n",
    "newdf2_care_home_2020 = newdf2[newdf2['Location of death'] == 'Care Home']\n",
    "\n",
    "#The data is filtered by the year 2020 \n",
    "\n",
    "actual_deaths_care_home_2020 = newdf2_care_home_2020.loc[(newdf2_care_home_2020['Year'] == 2020)]\n",
    "\n",
    "#The data is grouped by week number and sum the deaths by it\n",
    "actual_deaths_care_home_2020 = actual_deaths_care_home_2020.groupby('Week Number')['deaths'].sum()\n",
    "actual_deaths_care_home_2020;"
   ]
  },
  {
   "cell_type": "markdown",
   "id": "26b99aa2",
   "metadata": {},
   "source": [
    "## Calculation of actual death for care home 2021"
   ]
  },
  {
   "cell_type": "code",
   "execution_count": 38,
   "id": "2cb952ee",
   "metadata": {},
   "outputs": [],
   "source": [
    "#Actual death calculation on weekly basis for care home 2021\n",
    "\n",
    "#For the calculation week 53 was not included so it is filtered out\n",
    "\n",
    "newdf2_care_home_2021 = newdf2[newdf2['Week Number'] != 53]\n",
    "\n",
    "#Since data for only care home is needed, location is set to care home\n",
    "\n",
    "newdf2_care_home_2021 = newdf2[newdf2['Location of death'] == 'Care Home']\n",
    "\n",
    "#The data is filtered by the year 2021\n",
    "\n",
    "actual_deaths_care_home_2021 = newdf2_care_home_2021.loc[(newdf2_care_home_2021['Year'] == 2021)]\n",
    "\n",
    "#The data is grouped by week number and sum the deaths by it\n",
    "\n",
    "actual_deaths_care_home_2021 = actual_deaths_care_home_2021.groupby('Week Number')['deaths'].sum()\n",
    "actual_deaths_care_home_2021;"
   ]
  },
  {
   "cell_type": "markdown",
   "id": "b437e5fe",
   "metadata": {},
   "source": [
    "## Calculation of acrual death for care home 2022 "
   ]
  },
  {
   "cell_type": "code",
   "execution_count": 39,
   "id": "1120a4a9",
   "metadata": {},
   "outputs": [],
   "source": [
    "#Actual death calculation on weekly basis for care home 2022\n",
    "\n",
    "#For the calculation week 53 was not included so it is filtered out\n",
    "\n",
    "newdf2_care_home_2022 = newdf2[newdf2['Week Number'] != 53]\n",
    "\n",
    "#Since data for only care home is needed, location is set to care home\n",
    "\n",
    "newdf2_care_home_2022 = newdf2[newdf2['Location of death'] == 'Care Home']\n",
    "\n",
    "#The data is filtered by the year 2022\n",
    "\n",
    "actual_deaths_care_home_2022 = newdf2_care_home_2022.loc[(newdf2_care_home_2022['Year'] == 2022)]\n",
    "\n",
    "#The data is grouped by week number and sum the deaths by it\n",
    "\n",
    "actual_deaths_care_home_2022 = actual_deaths_care_home_2022.groupby('Week Number')['deaths'].sum()\n",
    "actual_deaths_care_home_2022;"
   ]
  },
  {
   "cell_type": "markdown",
   "id": "9ce9b7f9",
   "metadata": {},
   "source": [
    "# Excess deaths calculation for care home 2020, 2021 and 2022"
   ]
  },
  {
   "cell_type": "markdown",
   "id": "c72aac68",
   "metadata": {},
   "source": [
    "The formula for excess death is Excess death = Actual death - Expected death"
   ]
  },
  {
   "cell_type": "markdown",
   "id": "82663c62",
   "metadata": {},
   "source": [
    "## Excess death for care home 2020"
   ]
  },
  {
   "cell_type": "code",
   "execution_count": 40,
   "id": "a06cd9a8",
   "metadata": {},
   "outputs": [],
   "source": [
    "excess_death_2020_care_home = actual_deaths_care_home_2020 - expected_care_home\n",
    "excess_death_2020_care_home;"
   ]
  },
  {
   "cell_type": "markdown",
   "id": "db17c735",
   "metadata": {},
   "source": [
    "## Excess death for care home 2021"
   ]
  },
  {
   "cell_type": "code",
   "execution_count": 41,
   "id": "d4d076e9",
   "metadata": {},
   "outputs": [],
   "source": [
    "excess_death_2021_care_home = actual_deaths_care_home_2021 - expected_care_home\n",
    "excess_death_2021_care_home;"
   ]
  },
  {
   "cell_type": "markdown",
   "id": "a1eec133",
   "metadata": {},
   "source": [
    "## Excess death for care home 2022"
   ]
  },
  {
   "cell_type": "code",
   "execution_count": 42,
   "id": "58a1dcb7",
   "metadata": {},
   "outputs": [],
   "source": [
    "excess_deaths_2022_care_home = actual_deaths_care_home_2022 - expected_care_home\n",
    "excess_deaths_2022_care_home;"
   ]
  },
  {
   "cell_type": "markdown",
   "id": "dcaef67a",
   "metadata": {},
   "source": [
    "# Actual death calculation 2020-2022"
   ]
  },
  {
   "cell_type": "markdown",
   "id": "de1da837",
   "metadata": {},
   "source": [
    "## Calculation of actual death for home / non-institution 2020"
   ]
  },
  {
   "cell_type": "code",
   "execution_count": 43,
   "id": "7f562c74",
   "metadata": {},
   "outputs": [],
   "source": [
    "#Actual death calculation on weekly basis for home / non-institution 2020\n",
    "\n",
    "#For the calculation week 53 was not included so it is filtered out\n",
    "\n",
    "newdf2_home_non_inst_2020 = newdf2[newdf2['Week Number'] != 53]\n",
    "\n",
    "#Since data for only home / non-institution is needed, location is set to non-institution\n",
    "\n",
    "newdf2_home_non_inst_2020 = newdf2[newdf2['Location of death'] == 'Home / Non-institution']\n",
    "\n",
    "#The data is filtered by the year 2020\n",
    "actual_deaths_home_non_inst_2020 = newdf2_home_non_inst_2020.loc[(newdf2_home_non_inst_2020['Year'] == 2020)]\n",
    "\n",
    "#The data is grouped by week number and sum the deaths by it\n",
    "\n",
    "actual_deaths_home_non_inst_2020 = actual_deaths_home_non_inst_2020.groupby('Week Number')['deaths'].sum()\n",
    "actual_deaths_home_non_inst_2020;\n"
   ]
  },
  {
   "cell_type": "markdown",
   "id": "fc492a3e",
   "metadata": {},
   "source": [
    "## Calculation of actual death for home / non-institution 2021"
   ]
  },
  {
   "cell_type": "code",
   "execution_count": 44,
   "id": "5c7991e1",
   "metadata": {},
   "outputs": [],
   "source": [
    "#Actual death calculation on weekly basis for home / non-institution 2021\n",
    "\n",
    "#For the calculation week 53 was not included so it is filtered out\n",
    "\n",
    "newdf2_home_non_inst_2021 = newdf2[newdf2['Week Number'] != 53]\n",
    "\n",
    "#Since data for only home / non-institution is needed, location is set to non-institution\n",
    "\n",
    "newdf2_home_non_inst_2021 = newdf2[newdf2['Location of death'] == 'Home / Non-institution']\n",
    "\n",
    "#The data is filtered by the year 2021\n",
    "\n",
    "actual_deaths_home_non_inst_2021 = newdf2_home_non_inst_2021.loc[(newdf2_home_non_inst_2021['Year'] == 2021)]\n",
    "\n",
    "#The data is grouped by week number and sum the deaths by it\n",
    "\n",
    "actual_deaths_home_non_inst_2021 = actual_deaths_home_non_inst_2021.groupby('Week Number')['deaths'].sum()\n",
    "actual_deaths_home_non_inst_2021;\n"
   ]
  },
  {
   "cell_type": "markdown",
   "id": "b10feddf",
   "metadata": {},
   "source": [
    "## Calculation of actual death for home / non-institution 2022"
   ]
  },
  {
   "cell_type": "code",
   "execution_count": 45,
   "id": "5351a345",
   "metadata": {},
   "outputs": [],
   "source": [
    "#Actual death calculation on weekly basis for home / non-institution 2022\n",
    "\n",
    "#For the calculation week 53 was not included so it is filtered out\n",
    "\n",
    "newdf2_home_non_inst_2022 = newdf2[newdf2['Week Number'] != 53]\n",
    "\n",
    "#Since data for only home / non-institution is needed, location is set to non-institution\n",
    "\n",
    "newdf2_home_non_inst_2022 = newdf2[newdf2['Location of death'] == 'Home / Non-institution']\n",
    "\n",
    "#The data is filtered by the year 2021\n",
    "\n",
    "actual_deaths_home_non_inst_2022 = newdf2_home_non_inst_2022.loc[(newdf2_home_non_inst_2022['Year'] == 2022)]\n",
    "\n",
    "#The data is grouped by week number and sum the deaths by it\n",
    "\n",
    "actual_deaths_home_non_inst_2022 = actual_deaths_home_non_inst_2022.groupby('Week Number')['deaths'].sum()\n",
    "actual_deaths_home_non_inst_2022;"
   ]
  },
  {
   "cell_type": "markdown",
   "id": "879de055",
   "metadata": {},
   "source": [
    "# Excess deaths calculation for home / non-institution 2020, 2021 and 2022"
   ]
  },
  {
   "cell_type": "markdown",
   "id": "2a46ea20",
   "metadata": {},
   "source": [
    "## Excess death for home / non-institution 2020"
   ]
  },
  {
   "cell_type": "code",
   "execution_count": 46,
   "id": "9658a261",
   "metadata": {},
   "outputs": [],
   "source": [
    "excess_death_2020_home_non_inst = actual_deaths_home_non_inst_2020 - expected_home_non_inst\n",
    "excess_death_2020_home_non_inst;"
   ]
  },
  {
   "cell_type": "markdown",
   "id": "3c55afd5",
   "metadata": {},
   "source": [
    "## Excess death for home / non-institution 2021"
   ]
  },
  {
   "cell_type": "code",
   "execution_count": 47,
   "id": "0f7b84c1",
   "metadata": {},
   "outputs": [],
   "source": [
    "excess_death_2021_home_non_inst = actual_deaths_home_non_inst_2021 - expected_home_non_inst\n",
    "excess_death_2021_home_non_inst;"
   ]
  },
  {
   "cell_type": "markdown",
   "id": "2d5bf216",
   "metadata": {},
   "source": [
    "## Excess death for home / non-institution 2022"
   ]
  },
  {
   "cell_type": "code",
   "execution_count": 48,
   "id": "da32f796",
   "metadata": {},
   "outputs": [],
   "source": [
    "excess_death_2022_home_non_inst = actual_deaths_home_non_inst_2022 - expected_home_non_inst\n",
    "excess_death_2022_home_non_inst;"
   ]
  },
  {
   "cell_type": "markdown",
   "id": "a030a965",
   "metadata": {},
   "source": [
    "# Actual death calculation 2020-2022"
   ]
  },
  {
   "cell_type": "markdown",
   "id": "740b15cd",
   "metadata": {},
   "source": [
    "## Calculation of actual death for hospital 2020"
   ]
  },
  {
   "cell_type": "code",
   "execution_count": 49,
   "id": "72a81d99",
   "metadata": {},
   "outputs": [],
   "source": [
    "#Actual death calculation on weekly basis for hospital 2020\n",
    "\n",
    "#For the calculation week 53 was not included so it is filtered out\n",
    "\n",
    "newdf2_hospital_2020 = newdf2[newdf2['Week Number'] != 53]\n",
    "\n",
    "#Since data for only hospital is needed, location is set to hospital\n",
    "\n",
    "newdf2_hospital_2020 = newdf2[newdf2['Location of death'] == 'Hospital']\n",
    "\n",
    "#The data is filtered by the year 2020\n",
    "\n",
    "actual_deaths_hospital_2020 = newdf2_hospital_2020.loc[(newdf2_hospital_2020['Year'] == 2020)]\n",
    "\n",
    "#The data is grouped by week number and sum the deaths by it\n",
    "\n",
    "actual_deaths_hospital_2020 = actual_deaths_hospital_2020.groupby('Week Number')['deaths'].sum()\n",
    "actual_deaths_hospital_2020;"
   ]
  },
  {
   "cell_type": "markdown",
   "id": "b4ed302b",
   "metadata": {},
   "source": [
    "## Calculation of actual death for hospital 2021"
   ]
  },
  {
   "cell_type": "code",
   "execution_count": 50,
   "id": "893505cb",
   "metadata": {},
   "outputs": [],
   "source": [
    "#Actual death calculation on weekly basis for hospital 2021\n",
    "\n",
    "#For the calculation week 53 was not included so it is filtered out\n",
    "\n",
    "newdf2_hospital_2021 = newdf2[newdf2['Week Number'] != 53]\n",
    "\n",
    "#Since data for only hospital is needed, location is set to hospital\n",
    "\n",
    "newdf2_hospital_2021 = newdf2[newdf2['Location of death'] == 'Hospital']\n",
    "\n",
    "#The data is filtered by the year 2021\n",
    "\n",
    "actual_deaths_hospital_2021 = newdf2_hospital_2021.loc[(newdf2_hospital_2021['Year'] == 2021)]\n",
    "\n",
    "#The data is grouped by week number and sum the deaths by it\n",
    "\n",
    "actual_deaths_hospital_2021 = actual_deaths_hospital_2021.groupby('Week Number')['deaths'].sum()\n",
    "actual_deaths_hospital_2021;"
   ]
  },
  {
   "cell_type": "markdown",
   "id": "a8998062",
   "metadata": {},
   "source": [
    "## Calculation of actual death for hospital 2022"
   ]
  },
  {
   "cell_type": "code",
   "execution_count": 51,
   "id": "72670485",
   "metadata": {},
   "outputs": [],
   "source": [
    "#Actual death calculation on weekly basis for hospital 2022\n",
    "\n",
    "#For the calculation week 53 was not included so it is filtered out\n",
    "\n",
    "newdf2_hospital_2022 = newdf2[newdf2['Week Number'] != 53]\n",
    "\n",
    "#Since data for only hospital is needed, location is set to hospital\n",
    "\n",
    "newdf2_hospital_2022 = newdf2[newdf2['Location of death'] == 'Hospital']\n",
    "\n",
    "#The data is filtered by the year 2022\n",
    "\n",
    "actual_deaths_hospital_2022 = newdf2_hospital_2022.loc[(newdf2_hospital_2021['Year'] == 2022)]\n",
    "\n",
    "#The data is grouped by week number and sum the deaths by it\n",
    "\n",
    "actual_deaths_hospital_2022 = actual_deaths_hospital_2022.groupby('Week Number')['deaths'].sum()\n",
    "actual_deaths_hospital_2022;\n"
   ]
  },
  {
   "cell_type": "markdown",
   "id": "f751aee1",
   "metadata": {},
   "source": [
    "#  Excess deaths calculation for hospital 2020, 2021 and 2022"
   ]
  },
  {
   "cell_type": "markdown",
   "id": "75c53b4a",
   "metadata": {},
   "source": [
    "## Excess death for hospital 2020"
   ]
  },
  {
   "cell_type": "code",
   "execution_count": 52,
   "id": "4ab9f41b",
   "metadata": {},
   "outputs": [],
   "source": [
    "excess_death_2020_hospital = actual_deaths_hospital_2020 - expected_hospital\n",
    "excess_death_2020_hospital;"
   ]
  },
  {
   "cell_type": "markdown",
   "id": "aaf786b9",
   "metadata": {},
   "source": [
    "## Excess death for hospital 2021"
   ]
  },
  {
   "cell_type": "code",
   "execution_count": 53,
   "id": "671c5ff5",
   "metadata": {},
   "outputs": [],
   "source": [
    "excess_death_2021_hospital = actual_deaths_hospital_2021 - expected_hospital\n",
    "excess_death_2021_hospital;"
   ]
  },
  {
   "cell_type": "markdown",
   "id": "db045dfe",
   "metadata": {},
   "source": [
    "## Excess death for hospital 2022"
   ]
  },
  {
   "cell_type": "code",
   "execution_count": 54,
   "id": "59147554",
   "metadata": {},
   "outputs": [],
   "source": [
    "excess_death_2022_hospital = actual_deaths_hospital_2022 - expected_hospital\n",
    "excess_death_2022_hospital;"
   ]
  },
  {
   "cell_type": "markdown",
   "id": "82b8a4fd",
   "metadata": {},
   "source": [
    "# Actual deaths calculations 2020-2022"
   ]
  },
  {
   "cell_type": "markdown",
   "id": "4616e6f6",
   "metadata": {},
   "source": [
    "## Calculation of actual death for other institution 2020"
   ]
  },
  {
   "cell_type": "code",
   "execution_count": 55,
   "id": "f31413a7",
   "metadata": {},
   "outputs": [],
   "source": [
    "#Actual death calculation on weekly basis for other institution 2020\n",
    "\n",
    "#For the calculation week 53 was not included so it is filtered out\n",
    "\n",
    "newdf2_other_inst_2020 = newdf2[newdf2['Week Number'] != 53]\n",
    "\n",
    "#Since data for only other institution is needed, location is set to other institution\n",
    "\n",
    "newdf2_other_inst_2020 = newdf2[newdf2['Location of death'] == 'Other institution']\n",
    "\n",
    "#The data is filtered by the year 2020\n",
    "\n",
    "actual_deaths_other_inst_2020 = newdf2_other_inst_2020.loc[(newdf2_other_inst_2020['Year'] == 2020)]\n",
    "\n",
    "#The data is grouped by week number and sum the deaths by it\n",
    "\n",
    "actual_deaths_other_inst_2020 = actual_deaths_other_inst_2020.groupby('Week Number')['deaths'].sum()\n",
    "actual_deaths_other_inst_2020;"
   ]
  },
  {
   "cell_type": "markdown",
   "id": "d65a1495",
   "metadata": {},
   "source": [
    "## Calculation of actual death for other institution 2021"
   ]
  },
  {
   "cell_type": "code",
   "execution_count": 56,
   "id": "1666f9d8",
   "metadata": {},
   "outputs": [],
   "source": [
    "#Actual death calculation on weekly basis for other institution 2021\n",
    "\n",
    "#For the calculation week 53 was not included so it is filtered out\n",
    "\n",
    "newdf2_other_inst_2021 = newdf2[newdf2['Week Number'] != 53]\n",
    "\n",
    "#Since data for only other institution is needed, location is set to other institution\n",
    "\n",
    "newdf2_other_inst_2021 = newdf2[newdf2['Location of death'] == 'Other institution']\n",
    "\n",
    "#The data is filtered by the year 2021\n",
    "\n",
    "actual_deaths_other_inst_2021 = newdf2_other_inst_2021.loc[(newdf2_other_inst_2020['Year'] == 2021)]\n",
    "\n",
    "#The data is grouped by week number and sum the deaths by it\n",
    "\n",
    "actual_deaths_other_inst_2021 = actual_deaths_other_inst_2021.groupby('Week Number')['deaths'].sum()\n",
    "actual_deaths_other_inst_2021;"
   ]
  },
  {
   "cell_type": "markdown",
   "id": "144235c6",
   "metadata": {},
   "source": [
    "## Calculation of actual death for other institution 2022"
   ]
  },
  {
   "cell_type": "code",
   "execution_count": 57,
   "id": "dc9e66db",
   "metadata": {},
   "outputs": [],
   "source": [
    "#Actual death calculation on weekly basis for other institution 2022\n",
    "\n",
    "#For the calculation week 53 was not included so it is filtered out\n",
    "\n",
    "newdf2_other_inst_2022 = newdf2[newdf2['Week Number'] != 53]\n",
    "\n",
    "#Since data for only other institution is needed, location is set to other institution\n",
    "\n",
    "newdf2_other_inst_2022 = newdf2[newdf2['Location of death'] == 'Other institution']\n",
    "\n",
    "#The data is filtered by the year 2022\n",
    "\n",
    "actual_deaths_other_inst_2022 = newdf2_other_inst_2022.loc[(newdf2_other_inst_2020['Year'] == 2022)]\n",
    "\n",
    "#The data is grouped by week number and sum the deaths by it\n",
    "\n",
    "actual_deaths_other_inst_2022 = actual_deaths_other_inst_2022.groupby('Week Number')['deaths'].sum()\n",
    "actual_deaths_other_inst_2022;"
   ]
  },
  {
   "cell_type": "markdown",
   "id": "07fc8a2f",
   "metadata": {},
   "source": [
    "# Excess deaths calculation for other institution 2020, 2021 and 2022"
   ]
  },
  {
   "cell_type": "markdown",
   "id": "d1042c43",
   "metadata": {},
   "source": [
    "## Excess death for other institution 2020"
   ]
  },
  {
   "cell_type": "code",
   "execution_count": 58,
   "id": "75961415",
   "metadata": {},
   "outputs": [],
   "source": [
    "excess_death_2020_other_inst = actual_deaths_other_inst_2020 - expected_other_inst\n",
    "excess_death_2020_other_inst;"
   ]
  },
  {
   "cell_type": "markdown",
   "id": "f0efcc4b",
   "metadata": {},
   "source": [
    "## Excess death for other institution 2021"
   ]
  },
  {
   "cell_type": "code",
   "execution_count": 59,
   "id": "fae06540",
   "metadata": {},
   "outputs": [],
   "source": [
    "excess_death_2021_other_inst = actual_deaths_other_inst_2021 - expected_other_inst\n",
    "excess_death_2021_other_inst;"
   ]
  },
  {
   "cell_type": "markdown",
   "id": "d60db498",
   "metadata": {},
   "source": [
    "## Excess death for other institution 2022"
   ]
  },
  {
   "cell_type": "code",
   "execution_count": 60,
   "id": "fe1bcfce",
   "metadata": {},
   "outputs": [],
   "source": [
    "excess_death_2022_other_inst = actual_deaths_other_inst_2022 - expected_other_inst\n",
    "excess_death_2022_other_inst;"
   ]
  },
  {
   "cell_type": "markdown",
   "id": "8e5bec6d",
   "metadata": {},
   "source": [
    "# Visualisation of the excess death"
   ]
  },
  {
   "cell_type": "markdown",
   "id": "27a5618c",
   "metadata": {},
   "source": [
    "## Line graph of care home 2020, 2021 and 2022"
   ]
  },
  {
   "cell_type": "code",
   "execution_count": 61,
   "id": "f01efd76",
   "metadata": {},
   "outputs": [
    {
     "data": {
      "image/png": "[encoded data removed]",
      "text/plain": [
       "<Figure size 640x480 with 1 Axes>"
      ]
     },
     "metadata": {},
     "output_type": "display_data"
    }
   ],
   "source": [
    "#Excess death for all the three years namely 2020,2021 and 2022 has been plotted below. Color red represnt for year 2020, black\n",
    "#for 2021 and green for 2022.The (.index) returns the position at the first occurrence of the specified value here for excess deaths.\n",
    "#The (bbox_to_anchor) is used to put the legend outside the graph for clear visualisation.\n",
    "\n",
    "plt.plot(excess_death_2020_care_home.index, excess_death_2020_care_home.values, color='red', label='Excess Deaths 2020')\n",
    "plt.plot(excess_death_2021_care_home.index, excess_death_2021_care_home.values, color='black', label='Excess Deaths 2021')\n",
    "plt.plot(excess_deaths_2022_care_home.index, excess_deaths_2022_care_home.values, color='green', label='Excess Deaths 2022')\n",
    "\n",
    "plt.xlabel('Week')\n",
    "plt.ylabel('Excess number of Deaths')\n",
    "plt.title('Care Home')\n",
    "plt.legend(loc='center left', bbox_to_anchor=(1.1, 0.9))\n",
    "\n",
    "\n",
    "plt.show()"
   ]
  },
  {
   "cell_type": "markdown",
   "id": "56225202",
   "metadata": {},
   "source": [
    "## Line graph of home / non-institution 2020, 2021 and 2022"
   ]
  },
  {
   "cell_type": "code",
   "execution_count": 62,
   "id": "4b20f7a9",
   "metadata": {},
   "outputs": [
    {
     "data": {
      "image/png": "[encoded data removed]",
      "text/plain": [
       "<Figure size 640x480 with 1 Axes>"
      ]
     },
     "metadata": {},
     "output_type": "display_data"
    }
   ],
   "source": [
    "#Excess death for all the three years namely 2020,2021 and 2022 has been plotted below. Color red represnt for year 2020, black\n",
    "#for 2021 and green for 2022.The (.index) returns the position at the first occurrence of the specified value here for excess deaths.\n",
    "#The (bbox_to_anchor) is used to put the legend outside the graph for clear visualisation.\n",
    "\n",
    "plt.plot(excess_death_2020_home_non_inst.index, excess_death_2020_home_non_inst.values, color='red', label='Excess Deaths 2020')\n",
    "plt.plot(excess_death_2021_home_non_inst.index, excess_death_2021_home_non_inst.values, color='black', label='Excess Deaths 2021')\n",
    "plt.plot(excess_death_2022_home_non_inst.index, excess_death_2022_home_non_inst.values, color='green', label='Excess Deaths 2022')\n",
    "\n",
    "plt.xlabel('Week')\n",
    "plt.ylabel('Excess number of Deaths')\n",
    "plt.title('Home / Non-institution')\n",
    "plt.legend(loc='center left', bbox_to_anchor=(1.1, 0.9))\n",
    "\n",
    "\n",
    "plt.show()"
   ]
  },
  {
   "cell_type": "markdown",
   "id": "c7b9c63e",
   "metadata": {},
   "source": [
    "## Line graph of hospital 2020, 2021 and 2022"
   ]
  },
  {
   "cell_type": "code",
   "execution_count": 63,
   "id": "61e67c47",
   "metadata": {},
   "outputs": [
    {
     "data": {
      "image/png": "[encoded data removed]",
      "text/plain": [
       "<Figure size 640x480 with 1 Axes>"
      ]
     },
     "metadata": {},
     "output_type": "display_data"
    }
   ],
   "source": [
    "#Excess death for all the three years namely 2020,2021 and 2022 has been plotted below. Color red represnt for year 2020, black\n",
    "#for 2021 and green for 2022.The (.index) returns the position at the first occurrence of the specified value here for excess deaths.\n",
    "#The (bbox_to_anchor) is used to put the legend outside the graph for clear visualisation.\n",
    "\n",
    "plt.plot(excess_death_2020_hospital.index, excess_death_2020_hospital.values, color='red', label='Excess Deaths 2020')\n",
    "plt.plot(excess_death_2021_hospital.index, excess_death_2021_hospital.values, color='black', label='Excess Deaths 2021')\n",
    "plt.plot(excess_death_2022_hospital.index, excess_death_2022_hospital.values, color='green', label='Excess Deaths 2022')\n",
    "\n",
    "plt.xlabel('Week')\n",
    "plt.ylabel('Excess number of Deaths')\n",
    "plt.title('Hospital')\n",
    "plt.legend(loc='center left', bbox_to_anchor=(1.1, 0.9))\n",
    "\n",
    "\n",
    "plt.show()"
   ]
  },
  {
   "cell_type": "markdown",
   "id": "fa731fc5",
   "metadata": {},
   "source": [
    "## Line graph of other institution 2020, 2021 and 2022"
   ]
  },
  {
   "cell_type": "code",
   "execution_count": 64,
   "id": "88733d7f",
   "metadata": {},
   "outputs": [
    {
     "data": {
      "image/png": "[encoded data removed]",
      "text/plain": [
       "<Figure size 640x480 with 1 Axes>"
      ]
     },
     "metadata": {},
     "output_type": "display_data"
    }
   ],
   "source": [
    "#Excess death for all the three years namely 2020,2021 and 2022 has been plotted below. Color red represnt for year 2020, black\n",
    "#for 2021 and green for 2022.The (.index) returns the position at the first occurrence of the specified value here for excess deaths.\n",
    "#The (bbox_to_anchor) is used to put the legend outside the graph for clear visualisation.\n",
    "\n",
    "plt.plot(excess_death_2020_other_inst.index, excess_death_2020_other_inst.values, color='red', label='Excess Deaths 2020')\n",
    "plt.plot(excess_death_2021_other_inst.index, excess_death_2021_other_inst.values, color='black', label='Excess Deaths 2021')\n",
    "plt.plot(excess_death_2022_other_inst.index, excess_death_2022_other_inst.values, color='green', label='Excess Deaths 2022')\n",
    "\n",
    "plt.xlabel('Week')\n",
    "plt.ylabel('Excess number of Deaths')\n",
    "plt.title('Other institution')\n",
    "plt.legend(loc='center left', bbox_to_anchor=(1.1, 0.9))\n",
    "\n",
    "\n",
    "plt.show()"
   ]
  },
  {
   "cell_type": "code",
   "execution_count": null,
   "id": "f05d3b47",
   "metadata": {},
   "outputs": [],
   "source": []
  }
 ],
 "metadata": {
  "kernelspec": {
   "display_name": "Python 3 (ipykernel)",
   "language": "python",
   "name": "python3"
  },
  "language_info": {
   "codemirror_mode": {
    "name": "ipython",
    "version": 3
   },
   "file_extension": ".py",
   "mimetype": "text/x-python",
   "name": "python",
   "nbconvert_exporter": "python",
   "pygments_lexer": "ipython3",
   "version": "3.9.13"
  },
  "toc": {
   "base_numbering": 1,
   "nav_menu": {},
   "number_sections": true,
   "sideBar": true,
   "skip_h1_title": false,
   "title_cell": "Table of Contents",
   "title_sidebar": "Contents",
   "toc_cell": false,
   "toc_position": {},
   "toc_section_display": true,
   "toc_window_display": false
  }
 },
 "nbformat": 4,
 "nbformat_minor": 5
}
